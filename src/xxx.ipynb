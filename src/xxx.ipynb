{
 "cells": [
  {
   "cell_type": "code",
   "execution_count": null,
   "metadata": {},
   "outputs": [],
   "source": [
    "import os\n",
    "import sys\n",
    "\n",
    "import pandas as pd\n",
    "\n",
    "sys.path.append(os.path.abspath(\"codif-ape-train/src/\"))  # Adjust the path if needed\n",
    "# sys.path.append(os.path.abspath(\"../codif-ape-train/src\"))  # Adjust the path if needed\n",
    "\n",
    "\n",
    "from utils.data import get_file_system"
   ]
  },
  {
   "cell_type": "code",
   "execution_count": null,
   "metadata": {},
   "outputs": [],
   "source": [
    "entry_point = \"flat-embeddings\"\n",
    "file_path = f\"projet-ape/model_comparison_splits/sirene_4_NAF2025_20241027/df_test_raw_pred_{entry_point}.parquet\"\n",
    "fs = get_file_system()\n",
    "df_res = pd.read_parquet(file_path, filesystem=fs)"
   ]
  },
  {
   "cell_type": "code",
   "execution_count": null,
   "metadata": {},
   "outputs": [],
   "source": [
    "df_res"
   ]
  },
  {
   "cell_type": "code",
   "execution_count": null,
   "metadata": {},
   "outputs": [],
   "source": [
    "niv = 1\n",
    "(df_res[f\"APE_NIV{niv}_pred_k1\"] == df_res[f\"APE_NIV{niv}\"]).mean()"
   ]
  }
 ],
 "metadata": {
  "kernelspec": {
   "display_name": ".venv",
   "language": "python",
   "name": "python3"
  },
  "language_info": {
   "codemirror_mode": {
    "name": "ipython",
    "version": 3
   },
   "file_extension": ".py",
   "mimetype": "text/x-python",
   "name": "python",
   "nbconvert_exporter": "python",
   "pygments_lexer": "ipython3",
   "version": "3.12.9"
  }
 },
 "nbformat": 4,
 "nbformat_minor": 2
}
